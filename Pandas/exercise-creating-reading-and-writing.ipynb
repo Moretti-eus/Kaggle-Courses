{
 "cells": [
  {
   "cell_type": "markdown",
   "id": "1ffe47d3",
   "metadata": {
    "papermill": {
     "duration": 0.018274,
     "end_time": "2021-10-01T16:29:46.441699",
     "exception": false,
     "start_time": "2021-10-01T16:29:46.423425",
     "status": "completed"
    },
    "tags": []
   },
   "source": [
    "**This notebook is an exercise in the [Pandas](https://www.kaggle.com/learn/pandas) course.  You can reference the tutorial at [this link](https://www.kaggle.com/residentmario/creating-reading-and-writing).**\n",
    "\n",
    "---\n"
   ]
  },
  {
   "cell_type": "markdown",
   "id": "e26f5c45",
   "metadata": {
    "papermill": {
     "duration": 0.018146,
     "end_time": "2021-10-01T16:29:46.479502",
     "exception": false,
     "start_time": "2021-10-01T16:29:46.461356",
     "status": "completed"
    },
    "tags": []
   },
   "source": [
    "# Introduction\n",
    "\n",
    "The first step in most data analytics projects is reading the data file. In this exercise, you'll create Series and DataFrame objects, both by hand and by reading data files.\n",
    "\n",
    "Run the code cell below to load libraries you will need (including code to check your answers)."
   ]
  },
  {
   "cell_type": "code",
   "execution_count": 1,
   "id": "c67cfb37",
   "metadata": {
    "execution": {
     "iopub.execute_input": "2021-10-01T16:29:46.524250Z",
     "iopub.status.busy": "2021-10-01T16:29:46.523476Z",
     "iopub.status.idle": "2021-10-01T16:29:48.590343Z",
     "shell.execute_reply": "2021-10-01T16:29:48.589507Z",
     "shell.execute_reply.started": "2021-10-01T16:09:28.448794Z"
    },
    "papermill": {
     "duration": 2.095134,
     "end_time": "2021-10-01T16:29:48.590544",
     "exception": false,
     "start_time": "2021-10-01T16:29:46.495410",
     "status": "completed"
    },
    "tags": []
   },
   "outputs": [
    {
     "name": "stdout",
     "output_type": "stream",
     "text": [
      "Setup complete.\n"
     ]
    }
   ],
   "source": [
    "import pandas as pd\n",
    "pd.set_option('max_rows', 5)\n",
    "from learntools.core import binder; binder.bind(globals())\n",
    "from learntools.pandas.creating_reading_and_writing import *\n",
    "print(\"Setup complete.\")"
   ]
  },
  {
   "cell_type": "markdown",
   "id": "0b71a918",
   "metadata": {
    "papermill": {
     "duration": 0.017183,
     "end_time": "2021-10-01T16:29:48.626893",
     "exception": false,
     "start_time": "2021-10-01T16:29:48.609710",
     "status": "completed"
    },
    "tags": []
   },
   "source": [
    "# Exercises"
   ]
  },
  {
   "cell_type": "markdown",
   "id": "e97b022c",
   "metadata": {
    "papermill": {
     "duration": 0.015504,
     "end_time": "2021-10-01T16:29:48.658245",
     "exception": false,
     "start_time": "2021-10-01T16:29:48.642741",
     "status": "completed"
    },
    "tags": []
   },
   "source": [
    "## 1.\n",
    "\n",
    "In the cell below, create a DataFrame `fruits` that looks like this:\n",
    "\n",
    "![](https://i.imgur.com/Ax3pp2A.png)"
   ]
  },
  {
   "cell_type": "code",
   "execution_count": 2,
   "id": "8b157172",
   "metadata": {
    "execution": {
     "iopub.execute_input": "2021-10-01T16:29:48.702354Z",
     "iopub.status.busy": "2021-10-01T16:29:48.700897Z",
     "iopub.status.idle": "2021-10-01T16:29:48.720137Z",
     "shell.execute_reply": "2021-10-01T16:29:48.719581Z",
     "shell.execute_reply.started": "2021-10-01T16:11:54.841240Z"
    },
    "papermill": {
     "duration": 0.04611,
     "end_time": "2021-10-01T16:29:48.720302",
     "exception": false,
     "start_time": "2021-10-01T16:29:48.674192",
     "status": "completed"
    },
    "tags": []
   },
   "outputs": [
    {
     "data": {
      "application/javascript": [
       "parent.postMessage({\"jupyterEvent\": \"custom.exercise_interaction\", \"data\": {\"outcomeType\": 1, \"valueTowardsCompletion\": 0.16666666666666666, \"interactionType\": 1, \"questionType\": 1, \"questionId\": \"1_FruitDfCreation\", \"learnToolsVersion\": \"0.3.4\", \"failureMessage\": \"\", \"exceptionClass\": \"\", \"trace\": \"\"}}, \"*\")"
      ],
      "text/plain": [
       "<IPython.core.display.Javascript object>"
      ]
     },
     "metadata": {},
     "output_type": "display_data"
    },
    {
     "data": {
      "text/markdown": [
       "<span style=\"color:#33cc33\">Correct</span>"
      ],
      "text/plain": [
       "Correct"
      ]
     },
     "metadata": {},
     "output_type": "display_data"
    },
    {
     "data": {
      "text/html": [
       "<div>\n",
       "<style scoped>\n",
       "    .dataframe tbody tr th:only-of-type {\n",
       "        vertical-align: middle;\n",
       "    }\n",
       "\n",
       "    .dataframe tbody tr th {\n",
       "        vertical-align: top;\n",
       "    }\n",
       "\n",
       "    .dataframe thead th {\n",
       "        text-align: right;\n",
       "    }\n",
       "</style>\n",
       "<table border=\"1\" class=\"dataframe\">\n",
       "  <thead>\n",
       "    <tr style=\"text-align: right;\">\n",
       "      <th></th>\n",
       "      <th>Apples</th>\n",
       "      <th>Bananas</th>\n",
       "    </tr>\n",
       "  </thead>\n",
       "  <tbody>\n",
       "    <tr>\n",
       "      <th>0</th>\n",
       "      <td>30</td>\n",
       "      <td>21</td>\n",
       "    </tr>\n",
       "  </tbody>\n",
       "</table>\n",
       "</div>"
      ],
      "text/plain": [
       "   Apples  Bananas\n",
       "0      30       21"
      ]
     },
     "execution_count": 2,
     "metadata": {},
     "output_type": "execute_result"
    }
   ],
   "source": [
    "# Your code goes here. Create a dataframe matching the above diagram and assign it to the variable fruits.\n",
    "fruits = pd.DataFrame({\"Apples\":[30], \"Bananas\" : [21]}) # or: fruits = pd.DataFrame([[30, 21]], columns=['Apples', 'Bananas'])\n",
    "\n",
    "# Check your answer\n",
    "q1.check()\n",
    "fruits"
   ]
  },
  {
   "cell_type": "code",
   "execution_count": 3,
   "id": "7d5cef0a",
   "metadata": {
    "execution": {
     "iopub.execute_input": "2021-10-01T16:29:48.760892Z",
     "iopub.status.busy": "2021-10-01T16:29:48.760218Z",
     "iopub.status.idle": "2021-10-01T16:29:48.765179Z",
     "shell.execute_reply": "2021-10-01T16:29:48.764666Z",
     "shell.execute_reply.started": "2021-10-01T16:12:19.800655Z"
    },
    "papermill": {
     "duration": 0.027687,
     "end_time": "2021-10-01T16:29:48.765323",
     "exception": false,
     "start_time": "2021-10-01T16:29:48.737636",
     "status": "completed"
    },
    "tags": []
   },
   "outputs": [
    {
     "data": {
      "application/javascript": [
       "parent.postMessage({\"jupyterEvent\": \"custom.exercise_interaction\", \"data\": {\"interactionType\": 3, \"questionType\": 1, \"questionId\": \"1_FruitDfCreation\", \"learnToolsVersion\": \"0.3.4\", \"valueTowardsCompletion\": 0.0, \"failureMessage\": \"\", \"exceptionClass\": \"\", \"trace\": \"\", \"outcomeType\": 4}}, \"*\")"
      ],
      "text/plain": [
       "<IPython.core.display.Javascript object>"
      ]
     },
     "metadata": {},
     "output_type": "display_data"
    },
    {
     "data": {
      "text/markdown": [
       "<span style=\"color:#33cc99\">Solution:</span> \n",
       "```python\n",
       "fruits = pd.DataFrame([[30, 21]], columns=['Apples', 'Bananas'])\n",
       "```"
      ],
      "text/plain": [
       "Solution: \n",
       "```python\n",
       "fruits = pd.DataFrame([[30, 21]], columns=['Apples', 'Bananas'])\n",
       "```"
      ]
     },
     "metadata": {},
     "output_type": "display_data"
    }
   ],
   "source": [
    "#q1.hint()\n",
    "q1.solution()"
   ]
  },
  {
   "cell_type": "markdown",
   "id": "cc362f6e",
   "metadata": {
    "papermill": {
     "duration": 0.018809,
     "end_time": "2021-10-01T16:29:48.802518",
     "exception": false,
     "start_time": "2021-10-01T16:29:48.783709",
     "status": "completed"
    },
    "tags": []
   },
   "source": [
    "## 2.\n",
    "\n",
    "Create a dataframe `fruit_sales` that matches the diagram below:\n",
    "\n",
    "![](https://i.imgur.com/CHPn7ZF.png)"
   ]
  },
  {
   "cell_type": "code",
   "execution_count": 4,
   "id": "48f4096b",
   "metadata": {
    "execution": {
     "iopub.execute_input": "2021-10-01T16:29:48.848567Z",
     "iopub.status.busy": "2021-10-01T16:29:48.847588Z",
     "iopub.status.idle": "2021-10-01T16:29:48.853179Z",
     "shell.execute_reply": "2021-10-01T16:29:48.851364Z",
     "shell.execute_reply.started": "2021-10-01T16:19:16.009631Z"
    },
    "papermill": {
     "duration": 0.031255,
     "end_time": "2021-10-01T16:29:48.853614",
     "exception": true,
     "start_time": "2021-10-01T16:29:48.822359",
     "status": "failed"
    },
    "tags": []
   },
   "outputs": [
    {
     "ename": "IndentationError",
     "evalue": "unexpected indent (3544115829.py, line 3)",
     "output_type": "error",
     "traceback": [
      "\u001b[0;36m  File \u001b[0;32m\"/tmp/ipykernel_19/3544115829.py\"\u001b[0;36m, line \u001b[0;32m3\u001b[0m\n\u001b[0;31m    index=['2017 Sales', '2018 Sales'])\u001b[0m\n\u001b[0m    ^\u001b[0m\n\u001b[0;31mIndentationError\u001b[0m\u001b[0;31m:\u001b[0m unexpected indent\n"
     ]
    }
   ],
   "source": [
    "# Your code goes here. Create a dataframe matching the above diagram and assign it to the variable fruit_sales.\n",
    "fruit_sales = pd.DataFrame({\"Apples \":[35, 41], \"Bananas \":[21, 34]}, index=['2017 Sales', '2018 Sales']) #or: fruit_sales = pd.DataFrame([[35, 21], [41, 34]], columns=['Apples', 'Bananas'],\n",
    "                index=['2017 Sales', '2018 Sales'])\n",
    "\n",
    "# Check your answer\n",
    "q2.check()\n",
    "fruit_sales"
   ]
  },
  {
   "cell_type": "code",
   "execution_count": null,
   "id": "46b425e1",
   "metadata": {
    "execution": {
     "iopub.execute_input": "2021-10-01T16:16:38.195818Z",
     "iopub.status.busy": "2021-10-01T16:16:38.195000Z",
     "iopub.status.idle": "2021-10-01T16:16:38.208482Z",
     "shell.execute_reply": "2021-10-01T16:16:38.207490Z",
     "shell.execute_reply.started": "2021-10-01T16:16:38.195777Z"
    },
    "papermill": {
     "duration": null,
     "end_time": null,
     "exception": null,
     "start_time": null,
     "status": "pending"
    },
    "tags": []
   },
   "outputs": [],
   "source": [
    "q2.hint()\n",
    "q2.solution()"
   ]
  },
  {
   "cell_type": "markdown",
   "id": "f686091e",
   "metadata": {
    "papermill": {
     "duration": null,
     "end_time": null,
     "exception": null,
     "start_time": null,
     "status": "pending"
    },
    "tags": []
   },
   "source": [
    "## 3.\n",
    "\n",
    "Create a variable `ingredients` with a Series that looks like:\n",
    "\n",
    "```\n",
    "Flour     4 cups\n",
    "Milk       1 cup\n",
    "Eggs     2 large\n",
    "Spam       1 can\n",
    "Name: Dinner, dtype: object\n",
    "```"
   ]
  },
  {
   "cell_type": "code",
   "execution_count": null,
   "id": "52e1984c",
   "metadata": {
    "execution": {
     "iopub.execute_input": "2021-10-01T16:22:39.187246Z",
     "iopub.status.busy": "2021-10-01T16:22:39.186991Z",
     "iopub.status.idle": "2021-10-01T16:22:39.198996Z",
     "shell.execute_reply": "2021-10-01T16:22:39.198491Z",
     "shell.execute_reply.started": "2021-10-01T16:22:39.187221Z"
    },
    "papermill": {
     "duration": null,
     "end_time": null,
     "exception": null,
     "start_time": null,
     "status": "pending"
    },
    "tags": []
   },
   "outputs": [],
   "source": [
    "ingredients = pd.Series(['4 cups','1 cup', '2 large', '1 can'], index=['Flour', 'Milk', 'Eggs', 'Spam'], name='Dinner')\n",
    "    #Or: quantities = ['4 cups', '1 cup', '2 large', '1 can']; items = ['Flour', 'Milk', 'Eggs', 'Spam']; recipe = pd.Series(quantities, index=items, name='Dinner')\n",
    "\n",
    "# Check your answer\n",
    "q3.check()\n",
    "ingredients"
   ]
  },
  {
   "cell_type": "code",
   "execution_count": null,
   "id": "e7bcdcd2",
   "metadata": {
    "execution": {
     "iopub.execute_input": "2021-10-01T16:22:54.071526Z",
     "iopub.status.busy": "2021-10-01T16:22:54.070642Z",
     "iopub.status.idle": "2021-10-01T16:22:54.083362Z",
     "shell.execute_reply": "2021-10-01T16:22:54.082634Z",
     "shell.execute_reply.started": "2021-10-01T16:22:54.071471Z"
    },
    "papermill": {
     "duration": null,
     "end_time": null,
     "exception": null,
     "start_time": null,
     "status": "pending"
    },
    "tags": []
   },
   "outputs": [],
   "source": [
    "q3.hint()\n",
    "q3.solution()"
   ]
  },
  {
   "cell_type": "markdown",
   "id": "1d996b39",
   "metadata": {
    "papermill": {
     "duration": null,
     "end_time": null,
     "exception": null,
     "start_time": null,
     "status": "pending"
    },
    "tags": []
   },
   "source": [
    "## 4.\n",
    "\n",
    "Read the following csv dataset of wine reviews into a DataFrame called `reviews`:\n",
    "\n",
    "![](https://i.imgur.com/74RCZtU.png)\n",
    "\n",
    "The filepath to the csv file is `../input/wine-reviews/winemag-data_first150k.csv`. The first few lines look like:\n",
    "\n",
    "```\n",
    ",country,description,designation,points,price,province,region_1,region_2,variety,winery\n",
    "0,US,\"This tremendous 100% varietal wine[...]\",Martha's Vineyard,96,235.0,California,Napa Valley,Napa,Cabernet Sauvignon,Heitz\n",
    "1,Spain,\"Ripe aromas of fig, blackberry and[...]\",Carodorum Selección Especial Reserva,96,110.0,Northern Spain,Toro,,Tinta de Toro,Bodega Carmen Rodríguez\n",
    "```"
   ]
  },
  {
   "cell_type": "code",
   "execution_count": null,
   "id": "731961df",
   "metadata": {
    "execution": {
     "iopub.execute_input": "2021-10-01T16:26:06.769028Z",
     "iopub.status.busy": "2021-10-01T16:26:06.767869Z",
     "iopub.status.idle": "2021-10-01T16:26:07.678736Z",
     "shell.execute_reply": "2021-10-01T16:26:07.677954Z",
     "shell.execute_reply.started": "2021-10-01T16:26:06.768993Z"
    },
    "papermill": {
     "duration": null,
     "end_time": null,
     "exception": null,
     "start_time": null,
     "status": "pending"
    },
    "tags": []
   },
   "outputs": [],
   "source": [
    "reviews = pd.read_csv('../input/wine-reviews/winemag-data_first150k.csv', index_col=0)\n",
    "\n",
    "# Check your answer\n",
    "q4.check()\n",
    "reviews"
   ]
  },
  {
   "cell_type": "code",
   "execution_count": null,
   "id": "34b24c38",
   "metadata": {
    "execution": {
     "iopub.execute_input": "2021-10-01T16:24:35.916158Z",
     "iopub.status.busy": "2021-10-01T16:24:35.915500Z",
     "iopub.status.idle": "2021-10-01T16:24:35.923212Z",
     "shell.execute_reply": "2021-10-01T16:24:35.922432Z",
     "shell.execute_reply.started": "2021-10-01T16:24:35.916124Z"
    },
    "papermill": {
     "duration": null,
     "end_time": null,
     "exception": null,
     "start_time": null,
     "status": "pending"
    },
    "tags": []
   },
   "outputs": [],
   "source": [
    "q4.hint()\n",
    "#q4.solution()"
   ]
  },
  {
   "cell_type": "markdown",
   "id": "665c84fa",
   "metadata": {
    "papermill": {
     "duration": null,
     "end_time": null,
     "exception": null,
     "start_time": null,
     "status": "pending"
    },
    "tags": []
   },
   "source": [
    "## 5.\n",
    "\n",
    "Run the cell below to create and display a DataFrame called `animals`:"
   ]
  },
  {
   "cell_type": "code",
   "execution_count": null,
   "id": "f1c135c5",
   "metadata": {
    "execution": {
     "iopub.execute_input": "2021-10-01T16:26:25.083856Z",
     "iopub.status.busy": "2021-10-01T16:26:25.083585Z",
     "iopub.status.idle": "2021-10-01T16:26:25.093924Z",
     "shell.execute_reply": "2021-10-01T16:26:25.092657Z",
     "shell.execute_reply.started": "2021-10-01T16:26:25.083829Z"
    },
    "papermill": {
     "duration": null,
     "end_time": null,
     "exception": null,
     "start_time": null,
     "status": "pending"
    },
    "tags": []
   },
   "outputs": [],
   "source": [
    "animals = pd.DataFrame({'Cows': [12, 20], 'Goats': [22, 19]}, index=['Year 1', 'Year 2'])\n",
    "animals"
   ]
  },
  {
   "cell_type": "markdown",
   "id": "b561efa5",
   "metadata": {
    "papermill": {
     "duration": null,
     "end_time": null,
     "exception": null,
     "start_time": null,
     "status": "pending"
    },
    "tags": []
   },
   "source": [
    "In the cell below, write code to save this DataFrame to disk as a csv file with the name `cows_and_goats.csv`."
   ]
  },
  {
   "cell_type": "code",
   "execution_count": null,
   "id": "2241737b",
   "metadata": {
    "execution": {
     "iopub.execute_input": "2021-10-01T16:28:49.884456Z",
     "iopub.status.busy": "2021-10-01T16:28:49.884132Z",
     "iopub.status.idle": "2021-10-01T16:28:49.898955Z",
     "shell.execute_reply": "2021-10-01T16:28:49.898023Z",
     "shell.execute_reply.started": "2021-10-01T16:28:49.884403Z"
    },
    "papermill": {
     "duration": null,
     "end_time": null,
     "exception": null,
     "start_time": null,
     "status": "pending"
    },
    "tags": []
   },
   "outputs": [],
   "source": [
    "# Your code goes here\n",
    "animals.to_csv('cows_and_goats.csv')\n",
    "# Check your answer\n",
    "q5.check()"
   ]
  },
  {
   "cell_type": "code",
   "execution_count": null,
   "id": "8dda08bb",
   "metadata": {
    "execution": {
     "iopub.execute_input": "2021-10-01T16:28:42.580521Z",
     "iopub.status.busy": "2021-10-01T16:28:42.579829Z",
     "iopub.status.idle": "2021-10-01T16:28:42.588026Z",
     "shell.execute_reply": "2021-10-01T16:28:42.587275Z",
     "shell.execute_reply.started": "2021-10-01T16:28:42.580481Z"
    },
    "papermill": {
     "duration": null,
     "end_time": null,
     "exception": null,
     "start_time": null,
     "status": "pending"
    },
    "tags": []
   },
   "outputs": [],
   "source": [
    "#q5.hint()\n",
    "q5.solution()"
   ]
  },
  {
   "cell_type": "markdown",
   "id": "7521f9b4",
   "metadata": {
    "papermill": {
     "duration": null,
     "end_time": null,
     "exception": null,
     "start_time": null,
     "status": "pending"
    },
    "tags": []
   },
   "source": [
    "# Keep going\n",
    "\n",
    "Move on to learn about **[indexing, selecting and assigning](https://www.kaggle.com/residentmario/indexing-selecting-assigning)**."
   ]
  }
 ],
 "metadata": {
  "kernelspec": {
   "display_name": "Python 3",
   "language": "python",
   "name": "python3"
  },
  "language_info": {
   "codemirror_mode": {
    "name": "ipython",
    "version": 3
   },
   "file_extension": ".py",
   "mimetype": "text/x-python",
   "name": "python",
   "nbconvert_exporter": "python",
   "pygments_lexer": "ipython3",
   "version": "3.7.10"
  },
  "papermill": {
   "default_parameters": {},
   "duration": 12.883367,
   "end_time": "2021-10-01T16:29:50.405571",
   "environment_variables": {},
   "exception": true,
   "input_path": "__notebook__.ipynb",
   "output_path": "__notebook__.ipynb",
   "parameters": {},
   "start_time": "2021-10-01T16:29:37.522204",
   "version": "2.3.3"
  }
 },
 "nbformat": 4,
 "nbformat_minor": 5
}
